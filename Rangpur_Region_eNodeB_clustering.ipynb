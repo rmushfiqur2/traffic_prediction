{
  "nbformat": 4,
  "nbformat_minor": 0,
  "metadata": {
    "colab": {
      "name": "Rangpur_Region_eNodeB_clustering.ipynb",
      "provenance": []
    },
    "kernelspec": {
      "name": "python3",
      "display_name": "Python 3"
    },
    "language_info": {
      "name": "python"
    }
  },
  "cells": [
    {
      "cell_type": "code",
      "metadata": {
        "colab": {
          "base_uri": "https://localhost:8080/"
        },
        "id": "SMrjXpzjhr_5",
        "outputId": "745f041e-0b4d-4199-8070-e0ddad6f4654"
      },
      "source": [
        "%cd /content/drive/MyDrive/Prediction/Rangpur_Region"
      ],
      "execution_count": null,
      "outputs": [
        {
          "output_type": "stream",
          "name": "stdout",
          "text": [
            "/content/drive/MyDrive/Prediction/Rangpur_Region\n"
          ]
        }
      ]
    },
    {
      "cell_type": "code",
      "metadata": {
        "id": "8OXE-TUIi_JL"
      },
      "source": [
        "import numpy as np\n",
        "\n",
        "from sklearn.cluster import KMeans\n",
        "\n",
        "from sklearn.model_selection import KFold\n",
        "\n",
        "import time\n",
        "import os\n",
        "import csv\n",
        "import matplotlib.pyplot as plt"
      ],
      "execution_count": null,
      "outputs": []
    },
    {
      "cell_type": "code",
      "metadata": {
        "id": "4QhUtiRPjpT6"
      },
      "source": [
        "\"\"\"\n",
        "Class for managing our data.\n",
        "\"\"\"\n",
        "import csv\n",
        "import random\n",
        "import os.path\n",
        "import numpy as np\n",
        "\n",
        "\n",
        "class DataSet():\n",
        "\n",
        "    def __init__(self, data_path, have_id=True, have_label=True, column_header=True):\n",
        "        \"\"\"Constructor.\n",
        "        data_path = (string) the path of csv file containing data\n",
        "        every row of data: id(optional), first data, 2nd data, nth data, category(optional)\n",
        "        class_limit = (int) number of classes to limit the data to.\n",
        "        have_id = (bool) is first column is id ?\n",
        "        have_label = (bool) is last column is label ?\n",
        "        \"\"\"\n",
        "        self.data_path = data_path\n",
        "        self.have_label = have_label\n",
        "        self.have_id = have_id\n",
        "        self.have_header = column_header\n",
        "\n",
        "        # Get the data.\n",
        "        self.data = self.get_data()\n",
        "        print(\"Total data length: {}\".format(self.data.__len__()))\n",
        "\n",
        "        # Get the classes.\n",
        "        self.class_list = None\n",
        "        self.id_list = None\n",
        "        self.classes = self.get_classes()  # unique classes\n",
        "        self.ids = self.get_ids()\n",
        "\n",
        "        # self.class_list saves all class in a array\n",
        "        # self.id_list saves all ids in a array\n",
        "        # these are done within get_classes() and get_ids()\n",
        "\n",
        "    def get_data(self):\n",
        "        \"\"\"Load our data from file.\"\"\"\n",
        "        with open(self.data_path, 'r') as fin:\n",
        "            reader = csv.reader(fin)\n",
        "            data = list(reader)\n",
        "\n",
        "            no_bad_value = []\n",
        "            for item in data:\n",
        "                if '?' not in item:\n",
        "                    # convert string to number\n",
        "                    # no_bad_value.append(list(map(int, item)))\n",
        "                    no_bad_value.append(item)\n",
        "            if self.have_header:\n",
        "                no_bad_value.pop(0)  # exclude header\n",
        "        return no_bad_value\n",
        "\n",
        "    def reform_data(self, input_data):\n",
        "        \"\"\"avoid label and id\"\"\"\n",
        "        data_attr = []\n",
        "        data_label = []\n",
        "        for item in input_data:\n",
        "            item_copy = item.copy()\n",
        "            if self.have_id:\n",
        "                item_copy.pop(0)\n",
        "            if self.have_label:\n",
        "                data_label.append(item[-1])\n",
        "                item_copy.pop(-1)\n",
        "            data_attr.append(item_copy)\n",
        "\n",
        "        return data_attr, data_label\n",
        "\n",
        "    def get_classes(self):\n",
        "        \"\"\"Extract the classes from our data\"\"\"\n",
        "        classes = []\n",
        "        all_classes = []\n",
        "\n",
        "        if self.have_label:\n",
        "            for item in self.data:\n",
        "                all_classes.append(item[-1])\n",
        "                if item[-1] not in classes:\n",
        "                    classes.append(item[-1])\n",
        "        self.class_list = all_classes\n",
        "        # Sort them.\n",
        "        classes = sorted(classes)\n",
        "\n",
        "        # Return.\n",
        "        return classes\n",
        "\n",
        "    def get_ids(self):\n",
        "        \"\"\"Extract the ids from our data\"\"\"\n",
        "        ids = []\n",
        "        all_ids = []\n",
        "\n",
        "        if self.have_id:\n",
        "            for item in self.data:\n",
        "                all_ids.append(item[0])\n",
        "                if item[0] not in ids:\n",
        "                    ids.append(item[0])\n",
        "        self.id_list = all_ids\n",
        "        # Sort them.\n",
        "        ids = sorted(ids)\n",
        "\n",
        "        # Return.\n",
        "        return ids\n",
        "\n",
        "    def get_data_class_wise(self, class_label):\n",
        "        occurrences = [i for i, x in enumerate(self.class_list) if x == class_label]\n",
        "        class_data = [self.data[i] for i in occurrences]\n",
        "        return class_data\n",
        "\n",
        "    def get_sub_data(self, valid_class=None, limit=None, random_selection=True):\n",
        "        # None : all class\n",
        "        if valid_class is None:\n",
        "            data_range = self.data\n",
        "        else:\n",
        "            data_range = self.get_data_class_wise(valid_class)\n",
        "\n",
        "        if random_selection:\n",
        "            generated = []\n",
        "            if limit is None:\n",
        "                limit = data_range.__len__()\n",
        "            for i in range(limit):\n",
        "                generated.append(random.choice(data_range))\n",
        "            data_attr, data_label = self.reform_data(generated)\n",
        "            return data_attr, data_label\n",
        "        else:\n",
        "            if limit is not None:\n",
        "                data_range = data_range[:limit]\n",
        "            data_attr, data_label = self.reform_data(data_range)\n",
        "            return data_attr, data_label\n",
        "\n",
        "    def get_balanced_data(self, data_per_class, random_selection=True):\n",
        "        bal_data = []\n",
        "        label = []\n",
        "        for cls in self.classes:\n",
        "            data_attr, data_label = self.get_sub_data(valid_class=cls, limit=data_per_class,\n",
        "                                                      random_selection=random_selection)\n",
        "            bal_data = bal_data + data_attr\n",
        "            label = label + data_label\n",
        "        return bal_data, label\n",
        "\n",
        "\n",
        "def get_synthetic_data(n=1280, no_attribute=7):\n",
        "    data = np.zeros((n,no_attribute))\n",
        "    for i in range(no_attribute):\n",
        "        data[:,i] = np.random.normal(20+i*10, 5, n)\n",
        "    return data\n"
      ],
      "execution_count": null,
      "outputs": []
    },
    {
      "cell_type": "code",
      "metadata": {
        "colab": {
          "base_uri": "https://localhost:8080/"
        },
        "id": "b4Ura0c88evu",
        "outputId": "1e6ea5c8-9ad1-4ed0-f6e5-96dfc433306b"
      },
      "source": [
        "data = DataSet('eNodeB_clustering_data.csv', have_label=False, have_id=True, column_header=True)\n",
        "eNodeBs = data.id_list\n",
        "samples, labels = data.get_sub_data(random_selection=False)\n",
        "samples = np.array(samples, dtype=float)\n",
        "labels = np.array(labels)\n",
        "print(samples.shape)"
      ],
      "execution_count": null,
      "outputs": [
        {
          "output_type": "stream",
          "name": "stdout",
          "text": [
            "Total data length: 563\n",
            "(563, 136)\n"
          ]
        }
      ]
    },
    {
      "cell_type": "code",
      "metadata": {
        "colab": {
          "base_uri": "https://localhost:8080/",
          "height": 530
        },
        "id": "t9QdGIy89Sgn",
        "outputId": "1a6e9fa2-669c-4ac3-afa3-239cb5b72ee7"
      },
      "source": [
        "print('******Kmeans******')\n",
        "#num_cls = 5\n",
        "distortions = []\n",
        "K = range(1,10)\n",
        "for num_cls in K:\n",
        "  kmeans = KMeans(n_clusters=num_cls)\n",
        "  kmeans.fit(samples)\n",
        "  distortions.append(kmeans.inertia_)\n",
        "#kf = KFold(n_splits=4)\n",
        "\n",
        "\n",
        "\n",
        "#print(kmeans.labels_)\n",
        "#predictions = kmeans.predict(samples[test_index])\n",
        "plt.figure(figsize=(8,8))\n",
        "plt.plot(K, distortions, 'bx-')\n",
        "plt.xlabel('k')\n",
        "plt.ylabel('Distortion')\n",
        "plt.title('The Elbow Method showing the optimal k')\n",
        "plt.show()"
      ],
      "execution_count": null,
      "outputs": [
        {
          "output_type": "stream",
          "name": "stdout",
          "text": [
            "******Kmeans******\n"
          ]
        },
        {
          "output_type": "display_data",
          "data": {
            "image/png": "[encoded data removed]",
            "text/plain": [
              "<Figure size 576x576 with 1 Axes>"
            ]
          },
          "metadata": {
            "needs_background": "light"
          }
        }
      ]
    },
    {
      "cell_type": "code",
      "metadata": {
        "colab": {
          "base_uri": "https://localhost:8080/"
        },
        "id": "8KDp0ThvujBy",
        "outputId": "2e841665-3ea9-4b45-ad50-1060fa3a48c7"
      },
      "source": [
        "print('******Kmeans******')\n",
        "num_cls = 4\n",
        "kmeans = KMeans(n_clusters=num_cls)\n",
        "kmeans.fit(samples)"
      ],
      "execution_count": null,
      "outputs": [
        {
          "output_type": "stream",
          "name": "stdout",
          "text": [
            "******Kmeans******\n"
          ]
        },
        {
          "output_type": "execute_result",
          "data": {
            "text/plain": [
              "KMeans(algorithm='auto', copy_x=True, init='k-means++', max_iter=300,\n",
              "       n_clusters=4, n_init=10, n_jobs=None, precompute_distances='auto',\n",
              "       random_state=None, tol=0.0001, verbose=0)"
            ]
          },
          "metadata": {},
          "execution_count": 10
        }
      ]
    },
    {
      "cell_type": "code",
      "metadata": {
        "colab": {
          "base_uri": "https://localhost:8080/"
        },
        "id": "ON_PguIaBwJf",
        "outputId": "8b3f2231-4ca3-407a-b415-47af9692656a"
      },
      "source": [
        "#print(kmeans.cluster_centers_)\n",
        "centers = kmeans.cluster_centers_\n",
        "X_dist = kmeans.transform(samples)\n",
        "print(X_dist)\n",
        "print(kmeans.labels_)\n",
        "center_dists = np.array([X_dist[i][x] for i,x in enumerate(kmeans.labels_)])\n",
        "print(center_dists)\n"
      ],
      "execution_count": null,
      "outputs": [
        {
          "output_type": "stream",
          "name": "stdout",
          "text": [
            "[[5996.0956859  3482.64574483 4853.6687737  1356.12709705]\n",
            " [ 329.39358288 2265.03176178  973.71372069 4444.27120524]\n",
            " [ 273.20259726 2370.61241828 1085.81778735 4545.00422224]\n",
            " ...\n",
            " [ 218.09685343 2643.10911467 1315.74925268 4818.4665173 ]\n",
            " [1170.78688616 3713.54954034 2385.28838172 5891.03710806]\n",
            " [1010.22290135 3553.56934027 2216.40362851 5732.60726545]]\n",
            "[3 0 0 0 0 0 0 0 0 0 1 2 2 0 0 0 0 3 0 0 0 2 0 2 0 3 2 0 0 3 2 2 0 2 2 0 2\n",
            " 0 0 2 0 2 1 2 0 2 0 3 1 0 0 0 0 0 3 1 2 2 1 1 0 0 0 0 2 0 2 0 1 1 1 2 1 2\n",
            " 1 1 2 0 2 0 2 2 1 1 0 3 2 2 0 0 0 0 2 2 0 1 2 1 3 3 2 2 0 2 1 0 2 0 2 2 0\n",
            " 2 1 0 1 0 3 2 2 0 0 2 2 0 2 2 3 2 0 2 0 1 0 0 0 0 0 0 0 0 0 0 0 1 2 0 0 0\n",
            " 0 0 2 0 0 0 2 2 2 2 2 2 2 0 2 0 1 2 2 0 2 0 0 0 2 1 3 1 2 0 0 0 0 3 1 2 0\n",
            " 0 3 0 3 0 2 2 0 0 2 0 0 0 0 0 2 2 1 1 0 1 0 2 0 0 0 0 1 2 0 2 0 0 0 1 2 2\n",
            " 2 1 2 1 0 0 0 1 0 0 0 1 0 0 0 0 1 2 0 0 0 1 0 2 3 2 0 2 1 1 3 0 1 0 1 1 1\n",
            " 2 1 1 1 2 3 0 2 0 1 1 2 2 0 3 0 0 0 0 0 0 1 2 2 0 2 0 0 0 0 2 0 2 0 0 0 0\n",
            " 0 0 0 0 1 0 2 0 0 0 0 0 0 0 0 3 0 0 0 0 0 0 1 3 0 3 2 1 0 0 0 0 1 2 3 0 0\n",
            " 0 0 2 1 0 2 0 0 0 2 0 0 0 0 0 0 0 0 0 0 2 0 0 0 0 2 0 0 0 3 2 1 0 3 0 0 0\n",
            " 0 3 2 1 2 1 2 0 3 0 3 0 0 0 1 0 0 0 2 0 0 0 0 2 3 2 2 0 1 0 2 1 3 2 1 2 2\n",
            " 2 2 2 2 1 2 2 2 1 3 0 3 2 3 3 1 2 2 2 2 2 3 2 0 2 2 2 0 2 3 0 2 2 2 2 2 2\n",
            " 2 2 2 2 2 2 0 0 0 1 2 1 2 2 2 3 1 1 2 1 1 1 1 3 0 0 3 3 2 2 1 0 3 2 3 3 1\n",
            " 0 0 2 1 1 1 0 1 0 1 1 1 1 1 1 0 0 1 3 1 3 2 3 0 1 2 1 1 0 2 0 0 1 2 2 2 2\n",
            " 2 2 0 0 2 0 1 0 2 0 2 2 2 0 1 0 2 2 3 2 3 1 0 2 2 1 2 1 0 0 0 2 0 0 0 0 0\n",
            " 0 0 0 0 0 0 0 0]\n",
            "[1356.12709705  329.39358288  273.20259726  311.2186233   309.7683658\n",
            "  421.026234    404.17065433  253.60603615  568.72740293  554.46376378\n",
            "  581.52051902  423.47133313  444.42250248  291.95886949  289.11253094\n",
            "  234.64049265  155.24304791  884.6439868   437.37214513  605.13268868\n",
            "  116.31047237  462.66170948  184.67443048  433.93820408  446.46643913\n",
            "  566.53385993  603.5650021   190.12464437  356.58212406 1071.30066583\n",
            "  548.3896706   663.70247991  520.06305366  599.61087254  476.05570607\n",
            "  133.7703535   743.2952967   474.51532131  496.25738715  492.053235\n",
            "  287.4046211   624.41164542 1013.62585349  255.58346439  426.56958577\n",
            "  737.8207005   307.44050883  421.31794249  511.38501347  173.97219405\n",
            "  435.40810154  183.00510021  319.3461249   239.67909018  415.5959788\n",
            "  823.18757879  534.91825485  543.15584118  635.00602543  605.99777888\n",
            "  462.04080091  303.92938694  199.3935979   166.66809374  407.62481929\n",
            "  441.22767149  532.99638166  164.45659796  370.82170887  652.83737273\n",
            "  768.05141923  500.92717177  676.54850583  512.515989    765.34046174\n",
            "  862.52341683  546.80086733  298.19105537  600.11829835  631.18656952\n",
            "  469.1132173  1025.08970215  576.53595284  763.14820578  439.74643978\n",
            " 3913.05694746  555.24243906  729.89231449  260.81248664  281.4618053\n",
            "  179.8911634   299.56563458  708.45977346  729.00901517  182.84116513\n",
            " 1060.83104318  497.45022772  652.68676629  477.8929796   735.79298313\n",
            "  464.12580294  905.5459985   130.36814972  945.10834811  711.23222959\n",
            "  268.09011782  557.42692601  433.35609378  687.12871358  709.14033397\n",
            "  564.33444873 1632.17765772 1162.42527344  316.52907444  794.94638756\n",
            "  307.94116883 1002.97762313  728.85884666  474.4396066   780.82417499\n",
            "  517.58030949  861.32700705  667.50930462  359.45445409  526.16016647\n",
            "  580.85414548 1491.45954957  607.50235513  286.32645553  461.41185953\n",
            "  207.76377747  536.16061155  178.21191792  197.80437149  280.11153534\n",
            "  152.94336875  212.74637174  306.25840297  347.99467571  259.10505102\n",
            "  335.16649924   97.99358222  220.65311681  298.1482538   218.61484084\n",
            "  756.77714865  119.6191     1165.33842788  207.89400214  462.99408182\n",
            "  274.72876274  158.2669765   345.01800537  210.84136688  376.86524974\n",
            "  809.61887187  642.29268999  763.76090313  340.3770344   533.96706193\n",
            "  378.65515376  468.04552761  903.22880874  207.21431142 1017.91171646\n",
            "  462.26979175  873.16177771  541.60420365  440.91702591  532.04115268\n",
            "  190.71641319  345.65815534  665.1086663   816.58272739  531.39595643\n",
            "  778.04620092  851.89078922  439.03467869  432.90850111  622.03969815\n",
            "  286.81493874  756.2470377   628.79298709  768.7592851   266.86062563\n",
            "  567.08560504  986.39095266  283.48372013  772.64713169  184.77347201\n",
            "  445.58538278  465.67184877  388.83102629  132.41106476  519.907218\n",
            "  228.51138152  258.46110467  191.45167836  158.18042278  111.48016095\n",
            "  622.48934999  468.90381339 1041.75953493  628.59793845  186.37735154\n",
            "  559.08541861  719.14145309  294.3882832   184.98478825  581.9255761\n",
            "  164.18837384  241.38312005  786.64286804  361.61317934  351.57272652\n",
            "  257.87922932  298.6176675   490.9761159   269.26090356 1090.54829423\n",
            "  679.88346369  574.77818067  828.72130635  437.04959937  658.22806336\n",
            "  912.70457321  177.81452338  431.48960493  553.11086466  807.0979439\n",
            "  376.76555733  346.1416004   180.06249679  637.37338926  695.31440921\n",
            "  885.21360189  508.61292961  647.1164624   470.97873016  329.5295907\n",
            "  435.00655931  252.19761414  224.67876877  453.02986315  220.76954395\n",
            "  333.31884558  584.30904357  554.28751222  603.99493053  919.68872383\n",
            "  788.07000665  763.52057461  455.55122633  342.78413186  739.31515453\n",
            "  205.52693237  976.68462389  597.50981417 1148.99403188 1016.61759749\n",
            "  986.11187047  803.30846866  438.98262751  433.77761289  734.38049689\n",
            "  235.92214967  342.91277667  379.77011326  438.45983061 1228.85630733\n",
            "  912.05306161  524.86568113  327.14096202  904.02507051  266.92116019\n",
            "  231.47965356  197.93889708  603.10750879  455.43851299  193.91876448\n",
            "  973.07819667  682.46057641  461.16271215  391.37791479  629.28731406\n",
            "  446.70604855  187.05548293  265.91662549  408.83968267  718.7801246\n",
            "  194.16324784  654.44598876  950.74270517  206.1225108   370.51373942\n",
            "  824.88644548  268.15991113  419.3815473   546.06116901  232.50468037\n",
            "  762.39248416  229.23728486  949.5584395   184.73268614  330.70104102\n",
            "  184.55806665  343.69435674  796.02324908  788.65587716  978.4203136\n",
            "  786.0643155  1090.15123847  362.2745894   190.56100993  639.30649238\n",
            "  175.99174913  264.05001728  455.85853434 1089.99233946  476.37231735\n",
            "  133.45127896  453.91332941  377.3509898   622.51274658  387.31298216\n",
            "  442.01629904  236.83482868  121.45688494  549.55248458  439.81533525\n",
            "  511.21983088  172.58563597  482.26750215  114.80532551  269.42303235\n",
            "  922.43757236 1110.45521259  571.5617726   531.13405993  372.74950642\n",
            "  357.7885894   335.321395    711.69721336  708.62718099  273.38030476\n",
            "  182.99298313  469.93290687  292.47290757  156.34296782  198.69776651\n",
            "  244.20784389  265.94668895  147.21079801  559.3561896   365.38474202\n",
            "  533.09727879  148.43609815  401.10600597  733.78594784  172.85861174\n",
            "  300.97005073  183.10645681  322.01451538  549.30634164 1085.2171249\n",
            "  139.68717816  336.69248069  213.29440612  825.68207827  183.92065042\n",
            "  240.23502863  382.36797523  290.09669395  559.97864661  752.98822555\n",
            "  422.19765206  731.57866806  214.65972562  978.59601446  410.23572131\n",
            "  640.91596632  579.17352379  179.5774231   202.90692776  710.31624819\n",
            "  621.00515758  244.49614566  293.99002802  908.96302064  535.2579837\n",
            "  271.94476537  137.13755248  515.10434195  565.19119652 1236.35668506\n",
            "  739.29160576  606.36721166  697.69177956  668.17553926  339.19159653\n",
            "  809.52508082 1402.00289404  501.72337996  735.72119536  888.34115862\n",
            "  357.14390957  414.75451907  654.37470852  449.0139518   547.2498709\n",
            "  499.3047401  1134.09862606  889.94250658  711.77930718  991.98044874\n",
            "  802.37032231 1212.63848439  758.53895192  838.50394128  498.83975374\n",
            "  624.22456868 1082.09839654  778.53568774  762.93107499  277.76741597\n",
            "  667.6204779   846.86656158  702.89278354  988.18712594  816.95651891\n",
            "  315.15743851  618.72066809  518.83635369  468.70457789  495.43297377\n",
            "  530.40432539  707.75271183  502.66831373  403.94567559  336.48588496\n",
            "  322.08681982  526.89507496  639.74817004  464.75570497  653.93875804\n",
            "  445.22299018  589.0529669   371.15611556  405.70377231  716.7355624\n",
            "  814.05914382  562.51500849  656.72091235  512.44979575  746.69498118\n",
            " 1159.03895442  701.23589108  558.86677656  479.16298283  339.81371373\n",
            "  393.43650237  765.95708354  971.50300867  790.46868561  536.13409636\n",
            "  529.31131643  628.06321823  887.57599276  658.65836361  267.32589792\n",
            "  928.56061847  367.7561902  1043.36833052  347.47113884  688.41029902\n",
            "  612.94522392 1111.59131883  514.00708268  930.85450718  560.7256649\n",
            "  531.36865308  534.10604415  566.22725736  893.77943898 1102.50620446\n",
            "  945.91265819  448.50204133  411.97532037 1330.97762997  365.73966552\n",
            "  675.67146793  599.07568295  640.19642581  762.53372958  623.32759083\n",
            "  574.72539449  363.27059431  330.52076542  350.87107757 1049.11083228\n",
            "  653.31532276  320.22809754  715.5166677   639.00652532  132.37078402\n",
            " 1371.39598357  697.76469554  474.99381758  712.49719395  359.24064201\n",
            "  664.01975978  566.44806724  570.46397965  386.3405747   364.45016079\n",
            "  463.15705936  381.24346974  410.33176003  449.84328072  481.59480069\n",
            "  235.37519196  438.29290084  293.30561518  398.99676067 1413.33451311\n",
            "  171.40950067  643.15447348  579.586442    857.01258686  519.19218327\n",
            "  765.98372427  382.62053914  596.60089218  627.18414801  883.46895884\n",
            "  638.50364939 1476.08881652  658.08952853  556.96527664  494.86087463\n",
            "  350.01807322  570.30654208  480.21081168  533.51289268  708.62124381\n",
            "  363.29406086  164.08616297  466.53527809  249.78084079  316.09924218\n",
            "  214.44248712  474.421497    439.29710951  181.33871292  341.96046194\n",
            "  665.07447454  180.09567419  204.28536087  627.84785272  197.4467038\n",
            "  218.09685343 1170.78688616 1010.22290135]\n"
          ]
        }
      ]
    },
    {
      "cell_type": "code",
      "metadata": {
        "id": "sccyQSuEHaKx"
      },
      "source": [
        "import pandas as pd\n",
        "# initialise data of lists.\n",
        "rsult_data = {'eNodeB':eNodeBs,\n",
        "        'Group':kmeans.labels_,\n",
        "        'Distance':center_dists}\n",
        "result_df = pd.DataFrame(data=rsult_data)\n",
        "result_df.to_csv('result_clustering.csv', index=False)"
      ],
      "execution_count": null,
      "outputs": []
    },
    {
      "cell_type": "code",
      "metadata": {
        "id": "Yg7WNI_feM56"
      },
      "source": [
        "from sklearn.preprocessing import StandardScaler\n",
        "x = StandardScaler().fit_transform(samples)"
      ],
      "execution_count": null,
      "outputs": []
    },
    {
      "cell_type": "code",
      "metadata": {
        "id": "qIzFYUmqeylM"
      },
      "source": [
        "from sklearn.decomposition import PCA\n",
        "import pandas as pd\n",
        "pca = PCA(n_components=2)\n",
        "principalComponents = pca.fit_transform(x)\n",
        "principalDf = pd.DataFrame(data = principalComponents\n",
        "             , columns = ['principal component 1', 'principal component 2'])"
      ],
      "execution_count": null,
      "outputs": []
    },
    {
      "cell_type": "code",
      "metadata": {
        "colab": {
          "base_uri": "https://localhost:8080/"
        },
        "id": "-yVDGXwHfG-2",
        "outputId": "a644e417-c598-4126-f7cf-8db98c543119"
      },
      "source": [
        "print(principalComponents.shape)"
      ],
      "execution_count": null,
      "outputs": [
        {
          "output_type": "stream",
          "name": "stdout",
          "text": [
            "(563, 2)\n"
          ]
        }
      ]
    },
    {
      "cell_type": "code",
      "metadata": {
        "colab": {
          "base_uri": "https://localhost:8080/",
          "height": 498
        },
        "id": "DfTbcMf9GZwX",
        "outputId": "0aba3e9b-57a8-4bc5-f386-807542dda8ad"
      },
      "source": [
        "import seaborn as sns\n",
        "import matplotlib.pyplot as plt\n",
        "from matplotlib.pyplot import figure\n",
        "a = 20\n",
        "b = 21\n",
        "figure(figsize=(8, 6), dpi=80)\n",
        "#sns.scatterplot(kmeans.cluster_centers_[:,a], kmeans.cluster_centers_[:,b], marker='+', color='black', s=200);\n",
        "sns.scatterplot(principalComponents[:,0], principalComponents[:,1], hue=kmeans.labels_, \n",
        "                palette=sns.color_palette(\"Set1\", n_colors=num_cls));\n",
        "plt.xlabel(\"Principal Component 1\")\n",
        "plt.ylabel(\"Principal Component 2\")"
      ],
      "execution_count": null,
      "outputs": [
        {
          "output_type": "stream",
          "name": "stderr",
          "text": [
            "/usr/local/lib/python3.7/dist-packages/seaborn/_decorators.py:43: FutureWarning: Pass the following variables as keyword args: x, y. From version 0.12, the only valid positional argument will be `data`, and passing other arguments without an explicit keyword will result in an error or misinterpretation.\n",
            "  FutureWarning\n"
          ]
        },
        {
          "output_type": "execute_result",
          "data": {
            "text/plain": [
              "Text(0, 0.5, 'Principal Component 2')"
            ]
          },
          "metadata": {},
          "execution_count": 16
        },
        {
          "output_type": "display_data",
          "data": {
            "image/png": "[encoded data removed]",
            "text/plain": [
              "<Figure size 640x480 with 1 Axes>"
            ]
          },
          "metadata": {
            "needs_background": "light"
          }
        }
      ]
    }
  ]
}